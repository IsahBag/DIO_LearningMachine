{
 "cells": [
  {
   "cell_type": "code",
   "execution_count": 8,
   "metadata": {},
   "outputs": [],
   "source": [
    "import numpy as np\n",
    "import torch\n",
    "import torch.nn.functional as F\n",
    "import torchvision\n",
    "import matplotlib.pyplot as plt\n",
    "import torch.utils\n",
    "from time import time\n",
    "from torchvision import datasets, transforms\n",
    "from torch import nn, optim\n"
   ]
  },
  {
   "cell_type": "code",
   "execution_count": 9,
   "metadata": {},
   "outputs": [],
   "source": [
    "transform = transforms.ToTensor() # convertendo a imagem para tensor\n",
    "\n",
    "trainset = datasets.MNIST('./MNIST_data/', download=True, train=True, transform=transform) # carregando a parte de treino do dataset\n",
    "trainloader = torch.utils.data.DataLoader(trainset, batch_size=64, shuffle=True) # criando um buffer para pegar os dados por parte\n",
    "\n",
    "valset = datasets.MNIST('./MNIST_data/', download=True, train=False, transform=transform) # carregando a parte de treino do dataset\n",
    "valloader = torch.utils.data.DataLoader(trainset, batch_size=64, shuffle=True) # criando um buffer para pegar os dados por parte"
   ]
  },
  {
   "cell_type": "code",
   "execution_count": 10,
   "metadata": {},
   "outputs": [
    {
     "data": {
      "text/plain": [
       "<matplotlib.image.AxesImage at 0x271edd28110>"
      ]
     },
     "execution_count": 10,
     "metadata": {},
     "output_type": "execute_result"
    },
    {
     "data": {
      "image/png": "[encoded data removed]",
      "text/plain": [
       "<Figure size 640x480 with 1 Axes>"
      ]
     },
     "metadata": {},
     "output_type": "display_data"
    }
   ],
   "source": [
    "dataiter = iter(trainloader)  # iterador criado a partir de 'trainloader'\n",
    "imagens, etiquetas = next(dataiter)  # obtém o próximo lote de imagens e etiquetas do iterador 'dataiter'\n",
    "plt.imshow(imagens[0].numpy().squeeze(), cmap='gray_r')"
   ]
  },
  {
   "cell_type": "code",
   "execution_count": 11,
   "metadata": {},
   "outputs": [
    {
     "name": "stdout",
     "output_type": "stream",
     "text": [
      "torch.Size([1, 28, 28])\n",
      "torch.Size([])\n"
     ]
    }
   ],
   "source": [
    "print(imagens[0].shape)  # verifica as dimensões do tensor de cada imagem\n",
    "print(etiquetas[0].shape)  # verifica as dimensões do tensor de cada etiqueta"
   ]
  },
  {
   "cell_type": "code",
   "execution_count": 12,
   "metadata": {},
   "outputs": [],
   "source": [
    "class Modelo(nn.Module):\n",
    "    def __init__(self):\n",
    "        super(Modelo,self).__init__()\n",
    "        self.linear1 = nn.Linear(28*28, 128) # camada de entrada: 784 neurônios que se ligam a 128  \n",
    "        self.linear2 = nn.Linear(128, 64) # camada interna 1: 128 neurônios que se ligam a 64\n",
    "        self.linear3 = nn.Linear(64, 10) # camada interna 2: 64 neurônios que se ligam a 10\n",
    "        # não é necessário definir a camada de saída, pois só é preciso pegar o output da camada interna 2\n",
    "\n",
    "    def forward(self, X):\n",
    "        X = F.relu(self.linear1(X))  # função de ativação da camada de entrada para a camada interna 1\n",
    "        X = F.relu(self.linear2(X))  # função de ativação da camada interna 1 para a camada interna 2    \n",
    "        X = self.linear3(X)  # função de ativação da camada interna 2 para a camada de saída, nesse caso f(x) = x\n",
    "        return F.log_softmax(X, dim=1)  # dados utilizados para calcular a perda"
   ]
  },
  {
   "cell_type": "code",
   "execution_count": 13,
   "metadata": {},
   "outputs": [],
   "source": [
    "def treino(modelo, trainloader, device):\n",
    "\n",
    "    otimizador = optim.SGD(modelo.parameters(), lr=0.01, momentum=0.5)  # definindo a política de atualização dos pesos e da bias\n",
    "    inicio = time()  # timer para calcular o tempo do treino\n",
    "\n",
    "    criterio = nn.NLLLoss()  # definindo o criterio para calcular a perda\n",
    "    EPOCHS = 10  # número de epochs que o algoritmo rodará\n",
    "    modelo.train()  # ativação do modo de treinamento do modelo\n",
    "\n",
    "    for epoch in range(EPOCHS):\n",
    "        perda_acumulada = 0  # inicialização da perda acumulada da epoch em questão\n",
    "\n",
    "        for imagens, etiquetas in trainloader:\n",
    "\n",
    "            imagens = imagens.view(imagens.shape[0], -1)  # convertendo as imagens para vetores de 28*28 casas\n",
    "            otimizador.zero_grad()  # zerando os gradientes por conta do ciclo anterior\n",
    "\n",
    "            output = modelo(imagens.to(device))  # colocando os dados no modelo\n",
    "            perda_instantanea =  criterio(output, etiquetas.to(device))  # calculando a perda da epoch em questão\n",
    "\n",
    "            perda_instantanea.backward()  # back propagation a partir da perda\n",
    "\n",
    "            otimizador.step()  # atualizando os pesos e as bias\n",
    "\n",
    "            perda_acumulada += perda_instantanea.item()  # atualizando a perda acumulada\n",
    "            \n",
    "        else: \n",
    "            print(f\"Epoch {epoch+1} - Perda resultante: {perda_acumulada/len(trainloader)}\")\n",
    "    print(f\"\\nTempo de treino (em minutos) = {(time()-inicio)/60}\")"
   ]
  },
  {
   "cell_type": "code",
   "execution_count": 14,
   "metadata": {},
   "outputs": [],
   "source": [
    "def validacao(modelo, valloader, device):\n",
    "    conta_corretas, conta_todas = 0, 0\n",
    "    for imagens, etiquetas in valloader:\n",
    "        for i in range(len(etiquetas)):\n",
    "            img = imagens[i].view(1, 784)\n",
    "            # desativar o autograd para acelerar a validacão\n",
    "            with torch.no_grad():\n",
    "                logps = modelo(img.to(device))  # output do modelo em escala logaritmica\n",
    "\n",
    "            ps = torch.exp(logps)  # converte o output para escala normal\n",
    "            probab = list(ps.cpu().numpy()[0])\n",
    "            etiqueta_pred = probab.index(max(probab))  # converte o tensor em um número, no caso, o número que o modelo previu como correto\n",
    "            etiqueta_certa = etiquetas.numpy()[i]\n",
    "            if(etiqueta_certa == etiqueta_pred):  # compara a previsão com o valor correto\n",
    "                conta_corretas += 1\n",
    "            conta_todas +=1\n",
    "    \n",
    "    print(f\"Total de imagens testadas: {conta_todas}\")\n",
    "    print(f\"\\nPrecisão do modelo: {conta_corretas*100/conta_todas}\")"
   ]
  },
  {
   "cell_type": "code",
   "execution_count": 15,
   "metadata": {},
   "outputs": [
    {
     "data": {
      "text/plain": [
       "Modelo(\n",
       "  (linear1): Linear(in_features=784, out_features=128, bias=True)\n",
       "  (linear2): Linear(in_features=128, out_features=64, bias=True)\n",
       "  (linear3): Linear(in_features=64, out_features=10, bias=True)\n",
       ")"
      ]
     },
     "execution_count": 15,
     "metadata": {},
     "output_type": "execute_result"
    }
   ],
   "source": [
    "modelo = Modelo()  # inicializa o modelo\n",
    "\n",
    "device = torch.device(\"cuda\" if torch.cuda.is_available() else \"cpu\")  # modelo rodará na GPU se possível\n",
    "modelo.to(device)"
   ]
  }
 ],
 "metadata": {
  "kernelspec": {
   "display_name": "Python 3",
   "language": "python",
   "name": "python3"
  },
  "language_info": {
   "codemirror_mode": {
    "name": "ipython",
    "version": 3
   },
   "file_extension": ".py",
   "mimetype": "text/x-python",
   "name": "python",
   "nbconvert_exporter": "python",
   "pygments_lexer": "ipython3",
   "version": "3.12.1"
  }
 },
 "nbformat": 4,
 "nbformat_minor": 2
}
